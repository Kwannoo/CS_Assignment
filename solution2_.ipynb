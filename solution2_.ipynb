{
 "cells": [
  {
   "cell_type": "code",
   "execution_count": null,
   "metadata": {},
   "outputs": [],
   "source": [
    "import matplotlib.pyplot as plt\n",
    "import pandas as pd\n",
    " \n",
    "data = pd.read_csv(\"istherecorrelation.csv\", sep=';')\n",
    " \n",
    "year = data.loc[:,\"Year\"]\n",
    "wo = data.loc[:,\"WO [x1000]\"]\n",
    "beerconsump = data.loc[:,\"NL Beer consumption [x1000 hectoliter]\"]\n",
    " \n",
    "plt.rcParams['figure.dpi'] = 300\n",
    "plt.rcParams['savefig.dpi'] = 300\n",
    " \n",
    "fig, ax = plt.subplots()\n",
    "ax.plot(wo, beerconsump)\n"
   ]
  }
 ],
 "metadata": {
  "language_info": {
   "name": "python"
  },
  "orig_nbformat": 4
 },
 "nbformat": 4,
 "nbformat_minor": 2
}
